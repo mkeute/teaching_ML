{
 "cells": [
  {
   "cell_type": "markdown",
   "metadata": {},
   "source": [
    "# Python Basics\n",
    "\n",
    "Dr. Marius Keute\n",
    "\n",
    "marius.keute@uni-tuebingen.de\n",
    "\n",
    "\n",
    "# Outline\n",
    "\n",
    "* Introduction\n",
    "* Data Types\n",
    "* Loops and Functions\n",
    "* Classes\n",
    "* Packages\n",
    "* numpy\n",
    "* pandas\n",
    "* matplotlib"
   ]
  },
  {
   "cell_type": "markdown",
   "metadata": {},
   "source": [
    "## General information (Wikipedia)\n",
    " \n",
    "Python is a high-level general-purpose programming language. Its design philosophy emphasizes code readability with the use of significant indentation. Its language constructs and object-oriented approach aim to help programmers write clear, logical code for small- and large-scale projects.\n",
    "\n",
    "Python is dynamically-typed and garbage-collected. It supports multiple programming paradigms, including structured (particularly, procedural), object-oriented and functional programming. It is often described as a \"batteries included\" language due to its comprehensive standard library.\n",
    "\n",
    "Guido van Rossum began working on Python in the late 1980s, as a successor to the ABC programming language, and first released it in 1991 as Python 0.9.0. Python 2.0 was released in 2000 and introduced new features such as list comprehensions, cycle-detecting garbage collection, reference counting, and Unicode support. Python 3.0, released in 2008, was a major revision that is not completely backward-compatible with earlier versions. Python 2 was discontinued with version 2.7.18 in 2020.\n",
    "\n",
    "Python consistently ranks as one of the most popular programming languages.\n",
    "\n",
    "## Using Python\n",
    "\n",
    "Python is an *interpreted* programming language, i.e., we can run scripts without having to compile them. Very conveniently, the most common implementations of Python also support *interactive* programming, i.e., we do not have to run our program as a whole, but we can also execute parts or single lines of our program and see what they do before we execute the next part. This can be incredibly convenient during development, especially for programming novices!\n",
    "\n",
    "There are, essentially, three ways you can write and run Python programs:\n",
    "\n",
    "* Using an *Integrated Development Environment (IDE)*, such as **Spyder**, **Visual Studio Code** or **Pycharm**\n",
    "* Using a simple **Text Editor** and running your program in the **Command Line** (Windows) / **Terminal** (Linux/UNIX)\n",
    "* Using a **Jupyter Notebook** like the one you are just reading\n",
    "* **Anaconda** is a popular scientific software package including several of the above options\n",
    "\n",
    "No matter which option you choose - it is important to understand that a **Python program is just a text file** - all the magic happens during interpretation!\n",
    "\n",
    "\n",
    "## Data types\n",
    "In a typical Python program, we define variables and then perform operations on them. Each variable has a **name**, a **type** and a **value**. We can, and will, define our own types (**classes**), but they will in almost all cases be recombinations of **built-in data types**.\n",
    "\n",
    "Important built-in data types in Python are:\n",
    "* string (`str`): Character sequence\n",
    "* integer (`int`): integer number\n",
    "* `float`: decimal number\n",
    "* `list`: indexable array with arbitrary elements\n",
    "* dictionary (`dict`): keyword-indexable array\n",
    "* `set`: similar to list, but with unique elements\n",
    "* `tuple`: similar to list, with immutable elements\n",
    "* numpy types (not actually built-in types, but very important for scientific programming):\n",
    "    * `np.array`: similar to `list`, but can contain only one datatype, enables certain algebraic operations\n",
    "    * `np.matrix`: similar to `np.array`, but has some additional algebraic functionality\n",
    "\n",
    "Data types can, but do not have to be declared (so-called Duck-typing)\n",
    "Data types can be converted into each other (so-called type-casting)\n",
    "    "
   ]
  },
  {
   "cell_type": "code",
   "execution_count": 29,
   "metadata": {},
   "outputs": [
    {
     "name": "stdout",
     "output_type": "stream",
     "text": [
      "e\n",
      "hello world! how are you today?\n",
      "hello back!\n"
     ]
    }
   ],
   "source": [
    "#This is a comment. It will be ignored by the interpreter. It serves code readability\n",
    "#%% combining a comment with two percent signs (#%%) can, in some Python implementations,\n",
    "    #structure your script into segments\n",
    "    \n",
    "#Define variables (here with explicit type declaration, but this is not mandatory)\n",
    "\n",
    "hw:str = \"hello world!\"         #string (declaration with quotation marks)\n",
    "\n",
    "print(hw[1])                    #strings are sequences of characters and can be indexed\n",
    "                                #note that indexing starts at 0, so hw[1] is the second character (e)!\n",
    "    \n",
    "hw2:str = hw + \" how are you today?\"     #strings can be concatenated using the + symbol\n",
    "print(hw2)\n",
    "\n",
    "#note that character sequences must be either strings (then with quotation marks)\n",
    "#OR existing variable or function names.\n",
    "#So, this line will work fine\n",
    "print(\"hello back!\")\n",
    "\n",
    "#But this line will throw an error (uncomment it and try out!)\n",
    "#print(hello back!)\n"
   ]
  },
  {
   "cell_type": "code",
   "execution_count": 33,
   "metadata": {},
   "outputs": [
    {
     "name": "stdout",
     "output_type": "stream",
     "text": [
      "5.0\n",
      "-1.0\n",
      "6.0\n",
      "0.6666666666666666\n",
      "8.0\n",
      "23\n",
      "5.0\n"
     ]
    }
   ],
   "source": [
    "#Numerical data types are defined without quotation marks\n",
    "a:int = 2       #int\n",
    "b:float = 3.0   #float\n",
    "print(a+b)      #the + sign now has an actual arithmetic effect\n",
    "print(a-b)      #same for subtraction, multiplication, addition, and exponentiation\n",
    "print(a*b)\n",
    "print(a/b)\n",
    "print(a**b)\n",
    "\n",
    "#defining the same variables with quotation marks results in strings\n",
    "a2 = \"2\"\n",
    "b2 = \"3\"\n",
    "print(a2+b2)    #now the + sign concatenates again\n",
    "\n",
    "a3 = int(a2)    #converting both variables into numeric types makes them behave accordingly\n",
    "b3 = float(b2)\n",
    "print(a3+b3)\n",
    "\n",
    "#complex numbers are written like this:\n",
    "c = 1 + 5j\n",
    "\n",
    "##Your Task: what happens if you add (+) a string and a numeric variable?\n",
    "#Your Code here"
   ]
  },
  {
   "cell_type": "code",
   "execution_count": 14,
   "metadata": {},
   "outputs": [
    {
     "name": "stdout",
     "output_type": "stream",
     "text": [
      "1\n",
      "Apple price: 5 Dollar\n",
      "{1, 2, 3}\n"
     ]
    }
   ],
   "source": [
    "#Lists are defined with square brackets\n",
    "my_list = [1,2,3]\n",
    "print(my_list[0])       #lists can be indexed by position\n",
    "\n",
    "##Your task: show that lists are mutable.\n",
    "#Change the second entry of my_list to 5\n",
    "#Your code here\n",
    "\n",
    "##Your Task: append 7 to my_list\n",
    "#Your code here\n",
    "\n",
    "\n",
    "#Tuples are defined with parentheses\n",
    "my_tuple = (1,2,3)\n",
    "\n",
    "##Your task: Try the same operations with the tuple. What happens?\n",
    "#Your code here\n",
    "\n",
    "#sets are usually generated from lists or tuples\n",
    "my_redundant_list = [1,1,1,2,2,2,2,2,3,3]\n",
    "my_set = set(my_redundant_list)\n",
    "print(my_set)\n",
    "\n",
    "\n",
    "#Dictionaries are defined with curly brackets\n",
    "fruits = {'Apple':5,'Banana':10,'Orange':7}\n",
    "print(\"Apple price:\", fruits['Apple'], \"Dollar\") #dicts can be indexed by keyword\n",
    "\n",
    "\n",
    "#Dictionaries can be nested!\n",
    "##Your task: create a nested dictionary that contains a dictionary with price and stock for each fruit!\n",
    "#Your code here\n",
    "\n",
    "\n"
   ]
  },
  {
   "cell_type": "markdown",
   "metadata": {},
   "source": [
    "## Loops\n",
    "\n",
    "Loops are a ubiquitous control structure that we use whenever we want to perform the same operation for several different input values.\n",
    "There are three types of loops in Python:\n",
    "\n",
    "**For-loops** take an iterable (e.g. list) and perform the same operations with each value in the iterable.\n",
    "\n",
    "**While-loops** perform the same operation over and over while a certain condition is met.\n",
    "\n",
    "**List comprehensions** are simple for-loops, but with a more compact notation. List comprehensions always return a list"
   ]
  },
  {
   "cell_type": "code",
   "execution_count": 31,
   "metadata": {},
   "outputs": [
    {
     "name": "stdout",
     "output_type": "stream",
     "text": [
      "[1, 2, 3, 4, 5, 6]\n",
      "[2, 3, 4, 5, 6, 7]\n",
      "the price of Apple is:  5 dollars\n",
      "the price of Banana is:  10 dollars\n",
      "the price of Orange is:  7 dollars\n"
     ]
    }
   ],
   "source": [
    "#for-loop\n",
    "#assume we have a list and we want to add 1 to every element\n",
    "input_list = [1,2,3,4,5,6]\n",
    "output_list = []\n",
    "for value in input_list:\n",
    "    output_list.append(value+1)\n",
    "\n",
    "print(input_list)\n",
    "print(output_list)\n",
    "\n",
    "#we can also loop over keys and values of a dictionary at the same time:\n",
    "fruits = {'Apple':5,'Banana':10,'Orange':7}\n",
    "for fruit, price in fruits.items():\n",
    "    print('the price of', fruit, 'is: ', price, 'dollars')\n",
    "\n",
    "\n",
    "#while-loop\n",
    "i = 0\n",
    "while i<100:\n",
    "    print(i)\n",
    "    i+=1\n",
    "\n",
    "#rewriting for-loop as a list comprehension\n",
    "output_list = [value+1 for value in input_list]\n",
    "\n",
    "##Your task: Rewrite the loop over the dictionary items as a list comprehension!\n",
    "#Your code here\n",
    "\n",
    "\n",
    "#dictionary comprehension\n"
   ]
  },
  {
   "cell_type": "markdown",
   "metadata": {},
   "source": [
    "## Functions\n",
    "\n",
    "Like loops, functions exist to reuse the same code over and over. Other than loops, functions do not take a defined list of input values, but input values (called arguments) can be given to the function by the time we call it. For example, we may want to perform an arithmetic operation where we take the square of a real number, add 1, and divide everything by 2. Let `a`, `b`, `c` and `d` be numeric variables. We would have to write:\n",
    "```\n",
    "a_new = (a**2 + 1)/2\n",
    "b_new = (b**2 + 1)/2\n",
    "c_new = (c**2 + 1)/2\n",
    "d_new = (d**2 + 1)/2\n",
    "\n",
    "```\n",
    "There is, obviously, a lot of redundance in this code. Also, it is difficult to maintain. What if we decide that we want to divide by 3 rather than 2? We would have to change every single line. Writing a function is a better way to do this."
   ]
  },
  {
   "cell_type": "code",
   "execution_count": 6,
   "metadata": {},
   "outputs": [
    {
     "ename": "NameError",
     "evalue": "name 'reduce' is not defined",
     "output_type": "error",
     "traceback": [
      "\u001b[0;31m---------------------------------------------------------------------------\u001b[0m",
      "\u001b[0;31mNameError\u001b[0m                                 Traceback (most recent call last)",
      "\u001b[0;32m/tmp/ipykernel_38229/4247464434.py\u001b[0m in \u001b[0;36m<module>\u001b[0;34m\u001b[0m\n\u001b[1;32m     12\u001b[0m \u001b[0;34m\u001b[0m\u001b[0m\n\u001b[1;32m     13\u001b[0m \u001b[0;34m\u001b[0m\u001b[0m\n\u001b[0;32m---> 14\u001b[0;31m \u001b[0mreduce\u001b[0m\u001b[0;34m(\u001b[0m\u001b[0msquare_plus1_half\u001b[0m\u001b[0;34m,\u001b[0m\u001b[0;34m[\u001b[0m\u001b[0ma\u001b[0m\u001b[0;34m,\u001b[0m\u001b[0mb\u001b[0m\u001b[0;34m,\u001b[0m\u001b[0mc\u001b[0m\u001b[0;34m,\u001b[0m\u001b[0md\u001b[0m\u001b[0;34m]\u001b[0m\u001b[0;34m)\u001b[0m\u001b[0;34m\u001b[0m\u001b[0;34m\u001b[0m\u001b[0m\n\u001b[0m",
      "\u001b[0;31mNameError\u001b[0m: name 'reduce' is not defined"
     ]
    }
   ],
   "source": [
    "a=1\n",
    "b=2\n",
    "c=3\n",
    "d=4\n",
    "\n",
    "def square_plus1_half(x):\n",
    "    x_new = (x**2+1)/2\n",
    "    return x_new\n",
    "\n",
    "#your task: rewrite the above calculations using the function!\n",
    "#your code here\n",
    "\n",
    "\n",
    "#alternative way using map"
   ]
  },
  {
   "cell_type": "markdown",
   "metadata": {
    "tags": []
   },
   "source": [
    "## Classes\n",
    "\n",
    "Maybe the easiest way is to think about classes is as a container that binds together functions (now called **methods**) and **data** or **states**. A class defines a new data type. We cannot work with a class definition directly, but we need to create an **instance** of the class first. Let's consider a 'stupid calculator' as an example class."
   ]
  },
  {
   "cell_type": "code",
   "execution_count": 7,
   "metadata": {},
   "outputs": [],
   "source": [
    "#official documentation example:\n",
    "class Complex:\n",
    "    def __init__(self, realpart, imagpart):\n",
    "        self.r = realpart\n",
    "        self.i = imagpart"
   ]
  },
  {
   "cell_type": "code",
   "execution_count": 1,
   "metadata": {},
   "outputs": [],
   "source": [
    "class StupidCalculator: #by convention, a class name is written in capital / CamelCase letters, while a class instance is written in lowercase letters\n",
    "    def __init__(self, num): #the __init__ function is called when we create an instance of the class. Each class method has self as its first input argument.\n",
    "        self.num = num\n",
    "    \n",
    "##your task:\n",
    "#implement class methods that perform arithmetic operations with num (add, subtract, multiply, divide, raise)\n",
    "#your code here\n",
    "\n",
    "#create an instance of the calculator and use it!\n",
    "\n",
    "#implement a reset function\n",
    "#your code here\n"
   ]
  },
  {
   "cell_type": "markdown",
   "metadata": {},
   "source": [
    "# Packages\n",
    "\n",
    "So far, we have used **pure Python** code. To avoid having to write everything ourselves, we rely on other people's work and use **packages**.\n",
    "\n",
    "We can also write and use our own packages."
   ]
  },
  {
   "cell_type": "code",
   "execution_count": 9,
   "metadata": {},
   "outputs": [],
   "source": [
    "#install packages\n",
    "!pip install xlrd==1.2\n",
    "!pip install pandas\n",
    "\n",
    "#imports\n",
    "import numpy as np\n",
    "\n",
    "import matplotlib.pyplot as plt\n",
    "from matplotlib import pyplot as plt\n",
    "import matplotlib.mlab as mlab\n",
    "import matplotlib.gridspec as gridspec\n",
    "\n",
    "import pandas as pd"
   ]
  },
  {
   "cell_type": "markdown",
   "metadata": {},
   "source": [
    "## Numpy\n",
    "\n",
    "Numpy is the central package for numerical computation."
   ]
  },
  {
   "cell_type": "code",
   "execution_count": null,
   "metadata": {},
   "outputs": [],
   "source": [
    "#Numpy types are crucial for scientific programming. Since numpy is an external package, we need to import it\n",
    "my_list1 = [1,2,3]\n",
    "my_array1 = np.array(my_list1)\n",
    "\n",
    "#an important difference between lists and numpy arrays is that we can perform arithmetic\n",
    "#operations on a whole array but not on a whole list (uncomment the second line and try it out!)\n",
    "print(my_array1 + 1)     \n",
    "#print(my_list1 + 1)\n",
    "\n",
    "#Arrays can only contain one type\n",
    "print(np.array([\"1\",\"2\",\"3\"]))      #array of strings -> okay\n",
    "print(np.array([1,2,3]))            #array of ints -> okay\n",
    "print(np.array([1.0,2,3.0,4]))      #mixture of int and float -> will be cast to float, might be okay\n",
    "print(np.array([\"1\",2.0,3,\"4\"]))    #mixture of string and numeric -> will be converted to string, usually unwanted behavior\n",
    "\n",
    "\n",
    "#we create a second array to show that we can also do arithmetic between two arrays\n",
    "my_array2 = np.array([4,5,6])\n",
    "print(my_array1 + my_array2)\n",
    "print(my_array1 * my_array2)\n",
    "print(my_array1 @ my_array2)\n"
   ]
  },
  {
   "cell_type": "markdown",
   "metadata": {},
   "source": [
    "## Scipy\n",
    "\n",
    "Scipy is a collection of scientific computing functions\n"
   ]
  },
  {
   "cell_type": "code",
   "execution_count": null,
   "metadata": {},
   "outputs": [],
   "source": [
    "from scipy import signal\n",
    "from scipy import stats"
   ]
  },
  {
   "cell_type": "markdown",
   "metadata": {
    "tags": []
   },
   "source": [
    "## Matplotlib\n",
    "\n",
    "Data visualization is am important part of data analysis. We can use the `matplotlib` package to create 2D and simple 3D graphics."
   ]
  },
  {
   "cell_type": "code",
   "execution_count": 13,
   "metadata": {},
   "outputs": [
    {
     "data": {
      "text/plain": [
       "[<matplotlib.lines.Line2D at 0x7fd2f420ad30>]"
      ]
     },
     "execution_count": 13,
     "metadata": {},
     "output_type": "execute_result"
    },
    {
     "data": {
      "image/png": "[encoded data removed]",
      "text/plain": [
       "<Figure size 432x288 with 1 Axes>"
      ]
     },
     "metadata": {
      "needs_background": "light"
     },
     "output_type": "display_data"
    }
   ],
   "source": [
    "#taken from https://matplotlib.org/stable/gallery/lines_bars_and_markers/psd_demo.html#sphx-glr-gallery-lines-bars-and-markers-psd-demo-py\n",
    "\n",
    "##example data\n",
    "dt = 0.01\n",
    "t = np.arange(0, 10, dt)\n",
    "nse = np.random.randn(len(t))\n",
    "r = np.exp(-t / 0.05)\n",
    "cnse = np.convolve(nse, r) * dt\n",
    "cnse = cnse[:len(t)]\n",
    "s = 0.1 * np.sin(2 * np.pi * t) + cnse\n",
    "\n",
    "\n",
    "\n",
    "#make figure\n",
    "\n",
    "#make subplots"
   ]
  },
  {
   "cell_type": "markdown",
   "metadata": {},
   "source": [
    "## Pandas\n",
    "\n",
    "Another external package often used in scientific programming is `pandas`. It provides data frames, a data structure comparable to Excel spreadsheets."
   ]
  },
  {
   "cell_type": "code",
   "execution_count": 14,
   "metadata": {},
   "outputs": [
    {
     "name": "stdout",
     "output_type": "stream",
     "text": [
      "DatetimeIndex(['2013-01-01', '2013-01-02', '2013-01-03', '2013-01-04',\n",
      "               '2013-01-05', '2013-01-06'],\n",
      "              dtype='datetime64[ns]', freq='D')\n",
      "                   A         B         C         D\n",
      "2013-01-01 -1.916360 -0.972111 -0.772788 -0.474198\n",
      "2013-01-02  0.855321  0.615781 -0.447871  0.414337\n",
      "2013-01-03  1.265304  1.281363  0.222799  0.199416\n",
      "2013-01-04  0.615829  0.600722 -0.519572 -0.914043\n",
      "2013-01-05  0.553396  0.090465 -0.708338  0.747558\n",
      "2013-01-06  0.631378 -0.270996 -0.027701  0.398888\n",
      "     A          B    C  D      E    F\n",
      "0  1.0 2013-01-02  1.0  3   test  foo\n",
      "1  1.0 2013-01-02  1.0  3  train  foo\n",
      "2  1.0 2013-01-02  1.0  3   test  foo\n",
      "3  1.0 2013-01-02  1.0  3  train  foo\n",
      "    OrderDate   Region       Rep     Item      Units   Unit Cost        Total  \\\n",
      "0  2014-09-01  Central     Smith     Desk   2.000000  125.000000   250.000000   \n",
      "1  2015-06-17  Central    Kivell     Desk   5.000000  125.000000   625.000000   \n",
      "2  2015-09-10  Central      Gill   Pencil   7.000000    1.290000     9.030000   \n",
      "3  2015-11-17  Central   Jardine   Binder  11.000000    4.990000    54.890000   \n",
      "4  2015-10-31  Central   Andrews   Pencil  14.000000    1.290000    18.060000   \n",
      "5  2014-02-26  Central      Gill      Pen  27.000000   19.990000   539.730000   \n",
      "6  2014-10-05  Central    Morgan   Binder  28.000000    8.990000   251.720000   \n",
      "7  2015-12-21  Central   Andrews   Binder  28.000000    4.990000   139.720000   \n",
      "8  2014-02-09  Central   Jardine   Pencil  36.000000    4.990000   179.640000   \n",
      "9  2015-08-07  Central    Kivell  Pen Set  42.000000   23.950000  1005.900000   \n",
      "10 2015-01-15  Central      Gill   Binder  46.000000    8.990000   413.540000   \n",
      "11 2014-01-23  Central    Kivell   Binder  50.000000   19.990000   999.500000   \n",
      "12 2015-03-24  Central   Jardine  Pen Set  50.000000    4.990000   249.500000   \n",
      "13 2015-05-14  Central      Gill   Pencil  53.000000    1.290000    68.370000   \n",
      "14 2015-07-21  Central    Morgan  Pen Set  55.000000   12.490000   686.950000   \n",
      "15 2015-04-10  Central   Andrews   Pencil  66.000000    1.990000   131.340000   \n",
      "16 2014-12-12  Central     Smith   Pencil  67.000000    1.290000    86.430000   \n",
      "17 2014-04-18  Central   Andrews   Pencil  75.000000    1.990000   149.250000   \n",
      "18 2015-05-31  Central      Gill   Binder  80.000000    8.990000   719.200000   \n",
      "19 2015-02-01  Central     Smith   Binder  87.000000   15.000000  1305.000000   \n",
      "20 2014-05-05  Central   Jardine   Pencil  90.000000    4.990000   449.100000   \n",
      "21 2014-06-25  Central    Morgan   Pencil  90.000000    4.990000   449.100000   \n",
      "22 2015-12-04  Central   Jardine   Binder  94.000000   19.990000  1879.060000   \n",
      "23 2014-11-25  Central    Kivell  Pen Set  96.000000    4.990000   479.040000   \n",
      "24 2015-02-18     East     Jones   Binder   4.000000    4.990000    19.960000   \n",
      "25 2014-11-08     East    Parent      Pen  15.000000   19.990000   299.850000   \n",
      "26 2014-09-18     East     Jones  Pen Set  16.000000   15.990000   255.840000   \n",
      "27 2014-07-12     East    Howard   Binder  29.000000    1.990000    57.710000   \n",
      "28 2014-08-15     East     Jones   Pencil  35.000000    4.990000   174.650000   \n",
      "29 2014-04-01     East     Jones   Binder  60.000000    4.990000   299.400000   \n",
      "30 2014-06-08     East     Jones   Binder  60.000000    8.990000   539.400000   \n",
      "31 2015-07-04     East     Jones  Pen Set  62.000000    4.990000   309.380000   \n",
      "32 2014-10-22     East     Jones      Pen  64.000000    8.990000   575.360000   \n",
      "33 2014-12-29     East    Parent  Pen Set  74.000000   15.990000  1183.260000   \n",
      "34 2014-07-29     East    Parent   Binder  81.000000   19.990000  1619.190000   \n",
      "35 2014-01-06     East     Jones   Pencil  95.000000    1.990000   189.050000   \n",
      "36 2015-04-27     East    Howard      Pen  96.000000    4.990000   479.040000   \n",
      "37 2015-08-24     West   Sorvino     Desk   3.000000  275.000000   825.000000   \n",
      "38 2015-03-07     West   Sorvino   Binder   7.000000   19.990000   139.930000   \n",
      "39 2014-05-22     West  Thompson   Pencil  32.000000    1.990000    63.680000   \n",
      "40 2014-03-15     West   Sorvino   Pencil  56.000000    2.990000   167.440000   \n",
      "41 2015-10-14     West  Thompson   Binder  57.000000   19.990000  1139.430000   \n",
      "42 2015-09-27     West   Sorvino      Pen  76.000000    1.990000   151.240000   \n",
      "43        NaT      NaN       NaN      NaN        NaN         NaN          NaN   \n",
      "44        NaT      NaN      Mean      NaN  49.325581   20.308605   456.462326   \n",
      "45        NaT      NaN    Median      NaN  53.000000    4.990000   299.400000   \n",
      "46        NaT      NaN      Mode      NaN   7.000000    4.990000   449.100000   \n",
      "\n",
      "    Unnamed: 7  Bins  Frequency Intervals  Unnamed: 11 Item Type  Frequency.1  \\\n",
      "0          NaN   9.0        6.0       0-9          NaN    Pencil         13.0   \n",
      "1          NaN  19.0        4.0     10-19          NaN    Binder         15.0   \n",
      "2          NaN  29.0        4.0     20-29          NaN       Pen          5.0   \n",
      "3          NaN  39.0        3.0     30-39          NaN   Pen Set          7.0   \n",
      "4          NaN  49.0        2.0     40-49          NaN      Desk          3.0   \n",
      "5          NaN  59.0        6.0     50-59          NaN       NaN         43.0   \n",
      "6          NaN  69.0        6.0     60-69          NaN       NaN          NaN   \n",
      "7          NaN  79.0        3.0     70-79          NaN       NaN          NaN   \n",
      "8          NaN  89.0        3.0     80-89          NaN     10-19          NaN   \n",
      "9          NaN  99.0        6.0     90-99          NaN       NaN          NaN   \n",
      "10         NaN   NaN        0.0      100+          NaN       NaN          NaN   \n",
      "11         NaN   NaN        NaN       NaN          NaN       NaN          NaN   \n",
      "12         NaN   NaN        NaN       NaN          NaN       NaN          NaN   \n",
      "13         NaN   NaN        NaN       NaN          NaN       NaN          NaN   \n",
      "14         NaN   NaN        NaN       NaN          NaN       NaN          NaN   \n",
      "15         NaN   NaN        NaN       NaN          NaN       NaN          NaN   \n",
      "16         NaN   NaN        NaN       NaN          NaN       NaN          NaN   \n",
      "17         NaN   NaN        NaN       NaN          NaN       NaN          NaN   \n",
      "18         NaN   NaN        NaN       NaN          NaN       NaN          NaN   \n",
      "19         NaN   NaN        NaN       NaN          NaN       NaN          NaN   \n",
      "20         NaN   NaN        NaN       NaN          NaN       NaN          NaN   \n",
      "21         NaN   NaN        NaN       NaN          NaN       NaN          NaN   \n",
      "22         NaN   NaN        NaN       NaN          NaN       NaN          NaN   \n",
      "23         NaN   NaN        NaN       NaN          NaN       NaN          NaN   \n",
      "24         NaN   NaN        NaN       NaN          NaN       NaN          NaN   \n",
      "25         NaN   NaN        NaN       NaN          NaN       NaN          NaN   \n",
      "26         NaN   NaN        NaN       NaN          NaN       NaN          NaN   \n",
      "27         NaN   NaN        NaN       NaN          NaN       NaN          NaN   \n",
      "28         NaN   NaN        NaN       NaN          NaN       NaN          NaN   \n",
      "29         NaN   NaN        NaN       NaN          NaN       NaN          NaN   \n",
      "30         NaN   NaN        NaN       NaN          NaN       NaN          NaN   \n",
      "31         NaN   NaN        NaN       NaN          NaN       NaN          NaN   \n",
      "32         NaN   NaN        NaN       NaN          NaN       NaN          NaN   \n",
      "33         NaN   NaN        NaN       NaN          NaN       NaN          NaN   \n",
      "34         NaN   NaN        NaN       NaN          NaN       NaN          NaN   \n",
      "35         NaN   NaN        NaN       NaN          NaN       NaN          NaN   \n",
      "36         NaN   NaN        NaN       NaN          NaN       NaN          NaN   \n",
      "37         NaN   NaN        NaN       NaN          NaN       NaN          NaN   \n",
      "38         NaN   NaN        NaN       NaN          NaN       NaN          NaN   \n",
      "39         NaN   NaN        NaN       NaN          NaN       NaN          NaN   \n",
      "40         NaN   NaN        NaN       NaN          NaN       NaN          NaN   \n",
      "41         NaN   NaN        NaN       NaN          NaN       NaN          NaN   \n",
      "42         NaN   NaN        NaN       NaN          NaN       NaN          NaN   \n",
      "43         NaN   NaN        NaN       NaN          NaN       NaN          NaN   \n",
      "44         NaN   NaN        NaN       NaN          NaN       NaN          NaN   \n",
      "45         NaN   NaN        NaN       NaN          NaN       NaN          NaN   \n",
      "46         NaN   NaN        NaN       NaN          NaN       NaN          NaN   \n",
      "\n",
      "    Rel. Freq   % Freq.  \n",
      "0    0.302326  0.302326  \n",
      "1    0.348837  0.348837  \n",
      "2    0.116279  0.116279  \n",
      "3    0.162791  0.162791  \n",
      "4    0.069767  0.069767  \n",
      "5    1.000000  1.000000  \n",
      "6         NaN       NaN  \n",
      "7         NaN       NaN  \n",
      "8         NaN       NaN  \n",
      "9         NaN       NaN  \n",
      "10        NaN       NaN  \n",
      "11        NaN       NaN  \n",
      "12        NaN       NaN  \n",
      "13        NaN       NaN  \n",
      "14        NaN       NaN  \n",
      "15        NaN       NaN  \n",
      "16        NaN       NaN  \n",
      "17        NaN       NaN  \n",
      "18        NaN       NaN  \n",
      "19        NaN       NaN  \n",
      "20        NaN       NaN  \n",
      "21        NaN       NaN  \n",
      "22        NaN       NaN  \n",
      "23        NaN       NaN  \n",
      "24        NaN       NaN  \n",
      "25        NaN       NaN  \n",
      "26        NaN       NaN  \n",
      "27        NaN       NaN  \n",
      "28        NaN       NaN  \n",
      "29        NaN       NaN  \n",
      "30        NaN       NaN  \n",
      "31        NaN       NaN  \n",
      "32        NaN       NaN  \n",
      "33        NaN       NaN  \n",
      "34        NaN       NaN  \n",
      "35        NaN       NaN  \n",
      "36        NaN       NaN  \n",
      "37        NaN       NaN  \n",
      "38        NaN       NaN  \n",
      "39        NaN       NaN  \n",
      "40        NaN       NaN  \n",
      "41        NaN       NaN  \n",
      "42        NaN       NaN  \n",
      "43        NaN       NaN  \n",
      "44        NaN       NaN  \n",
      "45        NaN       NaN  \n",
      "46        NaN       NaN  \n"
     ]
    }
   ],
   "source": [
    "#different ways to create a dataframe\n",
    "\n",
    "\n",
    "dates = pd.date_range(\"20130101\", periods=6)\n",
    "df = pd.DataFrame(np.random.randn(6, 4), index=dates, columns=list(\"ABCD\"))\n",
    "print(dates)\n",
    "print(df)\n",
    "\n",
    "#data frames can be created from dictionaries\n",
    "df2 = pd.DataFrame(\n",
    "\n",
    "    {\n",
    "        \"A\": 1.0,\n",
    "        \"B\": pd.Timestamp(\"20130102\"),\n",
    "        \"C\": pd.Series(1, index=list(range(4)), dtype=\"float32\"),\n",
    "        \"D\": np.array([3] * 4, dtype=\"int32\"),\n",
    "        \"E\": pd.Categorical([\"test\", \"train\", \"test\", \"train\"]),\n",
    "        \"F\": \"foo\",\n",
    "\n",
    "    }\n",
    "\n",
    ")\n",
    "\n",
    "print(df2)\n",
    "\n",
    "#data frames can be read from and written to files.\n",
    "url = \"https://dornsife.usc.edu/assets/sites/298/docs/ir211wk12sample.xls\"\n",
    "df3 = pd.read_excel(url)\n",
    "print(df3)\n",
    "df3.to_csv(\"test.csv\")\n"
   ]
  },
  {
   "cell_type": "code",
   "execution_count": 17,
   "metadata": {},
   "outputs": [
    {
     "data": {
      "text/plain": [
       "array([[<AxesSubplot:title={'center':'sepal_length'}>,\n",
       "        <AxesSubplot:title={'center':'sepal_width'}>],\n",
       "       [<AxesSubplot:title={'center':'petal_length'}>,\n",
       "        <AxesSubplot:title={'center':'petal_width'}>]], dtype=object)"
      ]
     },
     "execution_count": 17,
     "metadata": {},
     "output_type": "execute_result"
    },
    {
     "data": {
      "image/png": "[encoded data removed]",
      "text/plain": [
       "<Figure size 432x288 with 4 Axes>"
      ]
     },
     "metadata": {
      "needs_background": "light"
     },
     "output_type": "display_data"
    }
   ],
   "source": [
    "iris = pd.read_csv('https://raw.githubusercontent.com/mwaskom/seaborn-data/master/iris.csv')\n",
    "\n"
   ]
  }
 ],
 "metadata": {
  "kernelspec": {
   "display_name": "Python 3 (ipykernel)",
   "language": "python",
   "name": "python3"
  },
  "language_info": {
   "codemirror_mode": {
    "name": "ipython",
    "version": 3
   },
   "file_extension": ".py",
   "mimetype": "text/x-python",
   "name": "python",
   "nbconvert_exporter": "python",
   "pygments_lexer": "ipython3",
   "version": "3.8.12"
  },
  "varInspector": {
   "cols": {
    "lenName": 16,
    "lenType": 16,
    "lenVar": 40
   },
   "kernels_config": {
    "python": {
     "delete_cmd_postfix": "",
     "delete_cmd_prefix": "del ",
     "library": "var_list.py",
     "varRefreshCmd": "print(var_dic_list())"
    },
    "r": {
     "delete_cmd_postfix": ") ",
     "delete_cmd_prefix": "rm(",
     "library": "var_list.r",
     "varRefreshCmd": "cat(var_dic_list()) "
    }
   },
   "types_to_exclude": [
    "module",
    "function",
    "builtin_function_or_method",
    "instance",
    "_Feature"
   ],
   "window_display": false
  }
 },
 "nbformat": 4,
 "nbformat_minor": 4
}
