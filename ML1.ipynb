{
 "cells": [
  {
   "cell_type": "markdown",
   "metadata": {},
   "source": [
    "# Machine Learning for Brain-Computer interfaces\n",
    "\n",
    "Dr. Marius Keute\n",
    "\n",
    "marius.keute@uni-tuebingen.de\n"
   ]
  },
  {
   "cell_type": "code",
   "execution_count": 1,
   "metadata": {},
   "outputs": [],
   "source": [
    "import matplotlib.pyplot as plt\n",
    "import numpy as np\n",
    "from sklearn import datasets\n",
    "\n",
    "%matplotlib inline"
   ]
  },
  {
   "cell_type": "markdown",
   "metadata": {},
   "source": [
    "## Linear Regression"
   ]
  },
  {
   "cell_type": "markdown",
   "metadata": {},
   "source": [
    "The goal of Linear Regression is to express the relationship between several variables by a linear model. Usually, we have one (metric) variable **y** containing data from **n units** (e.g., persons) on the left-hand side of the model, and we want to explain **y** by **p** (metric or categorical) **explanatory variables X**. Hence, **y** is an $n \\times 1$ vector and **X** is an $n \\times p$ matrix. In general, a linear equation,as you know, takes the form $y = ax+b$, $a$ being a multiplicative weight and $b$ being an additive intercept. For convenience, we can append the intercept term to the matrix **X** (by appending a first column full of ones) and appending the intercept term as a first element to the weight vector. Our model equation then becomes: $\\mathbf{\\hat{y}} =  \\mathbf{X} \\boldsymbol{{\\hat{\\beta}}}$, where $\\boldsymbol{{\\hat{\\beta}}}$ is a $p \\times 1$ vector of **regression weights**:\n",
    "\n",
    "\n",
    "\n",
    "\n",
    "$\\boldsymbol{\\hat{y}} = $ $\\begin{bmatrix} \n",
    "\\hat{y_1} \\\\ \\hat{y_2} \\\\ \\vdots \\\\ \\hat{y_n}\n",
    "\\end{bmatrix}$\n",
    "\n",
    "$\\boldsymbol{X} = \\begin{bmatrix} \n",
    "1 & X_{1,1} & X_{1,2} & \\dots & X_{1,p}\\\\\n",
    "1 & X_{2,1} & X_{2,2} & \\dots & X_{2,p}\\\\\n",
    "1 & \\vdots & \\vdots & \\ddots & \\vdots\\\\\n",
    "1 & X_{n,1} & X_{n,2} & \\dots & X_{n,p}\\\\\n",
    "\\end{bmatrix}\n",
    "$\n",
    "\n",
    "$\\hat{\\boldsymbol{\\beta}} = \\begin{bmatrix} \n",
    "\\hat{\\beta_0} \\\\ \\hat{\\beta_1} \\\\ \\vdots \\\\ \\hat{\\beta_p}\n",
    "\\end{bmatrix}\n",
    "\\quad\n",
    "$\n",
    "\n",
    "Note the **hat** over $\\boldsymbol{\\hat{y}}$ and $\\boldsymbol{{\\hat{\\beta}}}$. It stands for **estimate** or **prediction**. It is there because $\\boldsymbol{{\\hat{\\beta}}}$ is unknown, and the whole purpose of linear regression is to estimate it. **X** and **y**, on the other hand, are known, so why does **y** have a hat? It is important to understand that the equation $y = ax+b$ is usually not solvable for real-world data. That is to say, **y** cannot be perfectly reconstructed as a linear combination of the variables in **X**, so we will make a **prediction error**. The model equation above creates the best possible reconstruction of **y** as a linear combination of **X** - but it usually cannot create **y** itself from **X** (if this sounds too abstract - we will see an example very soon!).\n",
    "\n",
    "We define the **prediction error** as $\\epsilon := \\mathbf{y} - \\mathbf{\\hat{y}}$, and we make the assumption that the error is normally distributed with mean zero and some unknown variance: $\\epsilon \\sim \\mathcal{N}(0, \\sigma^2)$. We also refer to these errors as **residuals**. So the full **model equation** becomes:\n",
    "\n",
    "\n",
    "$\\mathbf{y} = \\mathbf{\\hat{y}} + \\boldsymbol{\\epsilon} = \\mathbf{X} \\boldsymbol{{\\hat{\\beta}}} + \\boldsymbol{\\hat{\\epsilon}}$\n",
    "\n",
    "$$\n",
    "\\hat{\\boldsymbol{\\epsilon}} = \\begin{bmatrix} \n",
    "\\hat{\\epsilon}_1 \\\\ \\hat{\\epsilon}_2 \\\\ \\vdots \\\\ \\hat{\\epsilon}_n\n",
    "\\end{bmatrix}\n",
    "$$\n",
    "\n",
    "We will now load some data and get a visual understanding of this abstract notation.\n",
    "\n"
   ]
  },
  {
   "cell_type": "code",
   "execution_count": 3,
   "metadata": {},
   "outputs": [
    {
     "name": "stdout",
     "output_type": "stream",
     "text": [
      "(442, 11)\n"
     ]
    },
    {
     "data": {
      "text/html": [
       "<div>\n",
       "<style scoped>\n",
       "    .dataframe tbody tr th:only-of-type {\n",
       "        vertical-align: middle;\n",
       "    }\n",
       "\n",
       "    .dataframe tbody tr th {\n",
       "        vertical-align: top;\n",
       "    }\n",
       "\n",
       "    .dataframe thead th {\n",
       "        text-align: right;\n",
       "    }\n",
       "</style>\n",
       "<table border=\"1\" class=\"dataframe\">\n",
       "  <thead>\n",
       "    <tr style=\"text-align: right;\">\n",
       "      <th></th>\n",
       "      <th>age</th>\n",
       "      <th>sex</th>\n",
       "      <th>bmi</th>\n",
       "      <th>bp</th>\n",
       "      <th>s1</th>\n",
       "      <th>s2</th>\n",
       "      <th>s3</th>\n",
       "      <th>s4</th>\n",
       "      <th>s5</th>\n",
       "      <th>s6</th>\n",
       "      <th>target</th>\n",
       "    </tr>\n",
       "  </thead>\n",
       "  <tbody>\n",
       "    <tr>\n",
       "      <th>0</th>\n",
       "      <td>0.038076</td>\n",
       "      <td>0.050680</td>\n",
       "      <td>0.061696</td>\n",
       "      <td>0.021872</td>\n",
       "      <td>-0.044223</td>\n",
       "      <td>-0.034821</td>\n",
       "      <td>-0.043401</td>\n",
       "      <td>-0.002592</td>\n",
       "      <td>0.019908</td>\n",
       "      <td>-0.017646</td>\n",
       "      <td>151.0</td>\n",
       "    </tr>\n",
       "    <tr>\n",
       "      <th>1</th>\n",
       "      <td>-0.001882</td>\n",
       "      <td>-0.044642</td>\n",
       "      <td>-0.051474</td>\n",
       "      <td>-0.026328</td>\n",
       "      <td>-0.008449</td>\n",
       "      <td>-0.019163</td>\n",
       "      <td>0.074412</td>\n",
       "      <td>-0.039493</td>\n",
       "      <td>-0.068330</td>\n",
       "      <td>-0.092204</td>\n",
       "      <td>75.0</td>\n",
       "    </tr>\n",
       "    <tr>\n",
       "      <th>2</th>\n",
       "      <td>0.085299</td>\n",
       "      <td>0.050680</td>\n",
       "      <td>0.044451</td>\n",
       "      <td>-0.005671</td>\n",
       "      <td>-0.045599</td>\n",
       "      <td>-0.034194</td>\n",
       "      <td>-0.032356</td>\n",
       "      <td>-0.002592</td>\n",
       "      <td>0.002864</td>\n",
       "      <td>-0.025930</td>\n",
       "      <td>141.0</td>\n",
       "    </tr>\n",
       "    <tr>\n",
       "      <th>3</th>\n",
       "      <td>-0.089063</td>\n",
       "      <td>-0.044642</td>\n",
       "      <td>-0.011595</td>\n",
       "      <td>-0.036656</td>\n",
       "      <td>0.012191</td>\n",
       "      <td>0.024991</td>\n",
       "      <td>-0.036038</td>\n",
       "      <td>0.034309</td>\n",
       "      <td>0.022692</td>\n",
       "      <td>-0.009362</td>\n",
       "      <td>206.0</td>\n",
       "    </tr>\n",
       "    <tr>\n",
       "      <th>4</th>\n",
       "      <td>0.005383</td>\n",
       "      <td>-0.044642</td>\n",
       "      <td>-0.036385</td>\n",
       "      <td>0.021872</td>\n",
       "      <td>0.003935</td>\n",
       "      <td>0.015596</td>\n",
       "      <td>0.008142</td>\n",
       "      <td>-0.002592</td>\n",
       "      <td>-0.031991</td>\n",
       "      <td>-0.046641</td>\n",
       "      <td>135.0</td>\n",
       "    </tr>\n",
       "  </tbody>\n",
       "</table>\n",
       "</div>"
      ],
      "text/plain": [
       "        age       sex       bmi        bp        s1        s2        s3  \\\n",
       "0  0.038076  0.050680  0.061696  0.021872 -0.044223 -0.034821 -0.043401   \n",
       "1 -0.001882 -0.044642 -0.051474 -0.026328 -0.008449 -0.019163  0.074412   \n",
       "2  0.085299  0.050680  0.044451 -0.005671 -0.045599 -0.034194 -0.032356   \n",
       "3 -0.089063 -0.044642 -0.011595 -0.036656  0.012191  0.024991 -0.036038   \n",
       "4  0.005383 -0.044642 -0.036385  0.021872  0.003935  0.015596  0.008142   \n",
       "\n",
       "         s4        s5        s6  target  \n",
       "0 -0.002592  0.019908 -0.017646   151.0  \n",
       "1 -0.039493 -0.068330 -0.092204    75.0  \n",
       "2 -0.002592  0.002864 -0.025930   141.0  \n",
       "3  0.034309  0.022692 -0.009362   206.0  \n",
       "4 -0.002592 -0.031991 -0.046641   135.0  "
      ]
     },
     "execution_count": 3,
     "metadata": {},
     "output_type": "execute_result"
    }
   ],
   "source": [
    "#load example data set\n",
    "data=datasets.load_diabetes(as_frame=True)['frame']\n",
    "\n",
    "#print shape and first couple of lines of the dataset\n",
    "print(data.shape)\n",
    "data.head()\n",
    "\n"
   ]
  },
  {
   "cell_type": "markdown",
   "metadata": {},
   "source": [
    "### Your task\n",
    "*Make the plotting code reusable - take the code in the cell below and turn it into a function, so that we cannot only plot s1 versus target, but any two variables in the dataset against each other.*"
   ]
  },
  {
   "cell_type": "code",
   "execution_count": 4,
   "metadata": {},
   "outputs": [
    {
     "data": {
      "image/png": "[encoded data removed]",
      "text/plain": [
       "<Figure size 432x288 with 2 Axes>"
      ]
     },
     "metadata": {
      "needs_background": "light"
     },
     "output_type": "display_data"
    }
   ],
   "source": [
    "#For better visibility, we will only use the first 50 rows to plot.\n",
    "x=data['s1'][:50]\n",
    "y=data['target'][:50]\n",
    "\n",
    "#don't worry about this code for now, you will soon understand what it does\n",
    "coefs = np.polyfit(x,y,deg=1)\n",
    "y_hat = coefs[1] + coefs[0]*x\n",
    "\n",
    "#create scatterplot\n",
    "fig,ax = plt.subplots(1,2)\n",
    "ax[0].scatter(x,y,c='black')\n",
    "ax[0].plot(x,y_hat,c='blue')\n",
    "ax[0].set_xlabel('s1')\n",
    "ax[0].set_ylabel('target')\n",
    "\n",
    "#show residuals at four example points\n",
    "pointix = [5, 15, 25, 35]\n",
    "for ix in pointix:\n",
    "    ax[0].plot([x[ix],x[ix]],[y[ix],y_hat[ix]],'--r')\n",
    "\n",
    "\n",
    "ax[1].hist(y-y_hat)\n",
    "ax[1].set_xlabel('size of residual')\n",
    "plt.show()"
   ]
  },
  {
   "cell_type": "markdown",
   "metadata": {},
   "source": [
    "## Estimating the regression weights\n",
    "\n",
    "In the plot above, we have used the `np.polyfit` function to fit a linear model (**fitting** is, in this case, an other word for **estimating**). The resulting line is the best representation of y as a linear function of x. Remember that the intercept and slope of the line are controlled by $\\hat{\\boldsymbol{\\beta}}$. But what does it mean to search for the *best* $\\hat{\\boldsymbol{\\beta}}$? There are two possible perspectives, the least-squares and the maximum-likelihood perspective. In a Machine Learning context, we say that the model has an **objective function** or **loss function** (denoted $\\mathcal{L}$) that we want to minimize.\n",
    "\n",
    "### The Least Squares Perspective\n",
    "\n",
    "We search for the $\\hat{\\boldsymbol{\\beta}}$ that minimizes the sum of the squared residuals:\n",
    "\n",
    "$\\mathcal{L} = \\frac{1}{n}||\\boldsymbol{y} - \\mathbf{X} \\boldsymbol{\\beta}||^2$\n",
    "\n",
    "### The Maximum Likelihood Perspective\n",
    "\n",
    "We search for the $\\hat{\\boldsymbol{\\beta}}$ that maximizes the Gaussian likelihood of the residuals:\n",
    "\n",
    "$f(x) \\sim exp(-\\frac{(x-\\mu)^2}{2 \\sigma^2})$, we use the negative log-likelihood as a loss function:\n",
    "$\\mathcal{L} \\sim ||\\boldsymbol{y} - \\mathbf{X} \\boldsymbol{\\beta}||^2$\n",
    "\n",
    "**It turns out that both approaches lead to the same result for linear regression!**\n",
    "\n",
    "### Gradient of the loss function\n",
    "The gradient of $\\mathcal{L}$ is given by:\n",
    "\n",
    "$\\nabla{\\mathcal{L}} = -\\frac{2}{n} \\boldsymbol{X}^T (\\boldsymbol{y} - \\mathbf{X} \\boldsymbol{\\beta}) \\implies \\hat{\\boldsymbol{\\beta}} = (X^TX)^{-1}X^Ty$\n",
    "\n",
    "## Your task: \n",
    "Using this formula, complete the function below that estimates beta!"
   ]
  },
  {
   "cell_type": "code",
   "execution_count": 10,
   "metadata": {},
   "outputs": [],
   "source": [
    "def beta_least_squares(X, y):\n",
    "    '''Computes a least-squares estimate for beta in a linear regression model.\n",
    "    \n",
    "       Inputs:\n",
    "         X: (n_observations, n_variables), numpy array with predictor values \n",
    "         y: (n_observations,) numpy array with target values\n",
    "       Outputs:\n",
    "         beta_hat: least-squares estimate of regression weights\n",
    "         y_hat: The predictions of y based on X and beta_hat\n",
    "         \n",
    " \n",
    "    \n",
    "    '''\n",
    "\n",
    "    #add column of 1s to X to represent the intercept\n",
    "    X = ...\n",
    "\n",
    "    # calculate beta_hat using the formula above\n",
    "    beta_hat = ...\n",
    "    y_hat = X @ beta_hat #multiply X with beta_hat to get prediction\n",
    "    return beta_hat, y_hat\n"
   ]
  },
  {
   "cell_type": "code",
   "execution_count": 4,
   "metadata": {},
   "outputs": [
    {
     "ename": "NameError",
     "evalue": "name 'beta_least_squares' is not defined",
     "output_type": "error",
     "traceback": [
      "\u001b[1;31m---------------------------------------------------------------------------\u001b[0m",
      "\u001b[1;31mNameError\u001b[0m                                 Traceback (most recent call last)",
      "\u001b[1;32m<ipython-input-4-b2a1a739f4a8>\u001b[0m in \u001b[0;36m<module>\u001b[1;34m\u001b[0m\n\u001b[1;32m----> 1\u001b[1;33m \u001b[0mbeta_hat\u001b[0m\u001b[1;33m,\u001b[0m \u001b[0my_hat\u001b[0m \u001b[1;33m=\u001b[0m \u001b[0mbeta_least_squares\u001b[0m\u001b[1;33m(\u001b[0m\u001b[0mx\u001b[0m\u001b[1;33m,\u001b[0m \u001b[0my\u001b[0m\u001b[1;33m,\u001b[0m \u001b[0mintercept\u001b[0m\u001b[1;33m=\u001b[0m\u001b[1;32mTrue\u001b[0m\u001b[1;33m)\u001b[0m\u001b[1;33m\u001b[0m\u001b[1;33m\u001b[0m\u001b[0m\n\u001b[0m\u001b[0;32m      2\u001b[0m \u001b[1;33m\u001b[0m\u001b[0m\n\u001b[0;32m      3\u001b[0m \u001b[1;31m#create scatterplot\u001b[0m\u001b[1;33m\u001b[0m\u001b[1;33m\u001b[0m\u001b[1;33m\u001b[0m\u001b[0m\n\u001b[0;32m      4\u001b[0m \u001b[0mfig\u001b[0m\u001b[1;33m,\u001b[0m\u001b[0max\u001b[0m \u001b[1;33m=\u001b[0m \u001b[0mplt\u001b[0m\u001b[1;33m.\u001b[0m\u001b[0msubplots\u001b[0m\u001b[1;33m(\u001b[0m\u001b[1;36m1\u001b[0m\u001b[1;33m,\u001b[0m\u001b[1;36m2\u001b[0m\u001b[1;33m)\u001b[0m\u001b[1;33m\u001b[0m\u001b[1;33m\u001b[0m\u001b[0m\n\u001b[0;32m      5\u001b[0m \u001b[0max\u001b[0m\u001b[1;33m[\u001b[0m\u001b[1;36m0\u001b[0m\u001b[1;33m]\u001b[0m\u001b[1;33m.\u001b[0m\u001b[0mscatter\u001b[0m\u001b[1;33m(\u001b[0m\u001b[0mx\u001b[0m\u001b[1;33m,\u001b[0m\u001b[0my\u001b[0m\u001b[1;33m,\u001b[0m\u001b[0mc\u001b[0m\u001b[1;33m=\u001b[0m\u001b[1;34m'black'\u001b[0m\u001b[1;33m)\u001b[0m\u001b[1;33m\u001b[0m\u001b[1;33m\u001b[0m\u001b[0m\n",
      "\u001b[1;31mNameError\u001b[0m: name 'beta_least_squares' is not defined"
     ]
    }
   ],
   "source": [
    "beta_hat, y_hat = beta_least_squares(x, y, intercept=True)\n",
    "\n",
    "#create scatterplot\n",
    "fig,ax = plt.subplots(1,2)\n",
    "ax[0].scatter(x,y,c='black')\n",
    "ax[0].plot(x,y_hat,c='blue')\n",
    "ax[0].set_xlabel('s1')\n",
    "ax[0].set_ylabel('target')\n",
    "\n",
    "#show residuals at four example points\n",
    "pointix = [5, 15, 25, 35]\n",
    "for ix in pointix:\n",
    "    ax[0].plot([x[ix],x[ix]],[y[ix],y_hat[ix]],'--r')\n",
    "\n",
    "\n",
    "ax[1].hist(y-y_hat)\n",
    "ax[1].set_xlabel('size of residual')\n",
    "plt.show()\n"
   ]
  },
  {
   "cell_type": "markdown",
   "metadata": {},
   "source": [
    "## Statistics vs. Machine Learning\n",
    "\n",
    "Until now, we estimated a model from data using our computer (machine). So we have arguably done ML. However, this model had an analytic solution, so it is a rather simple model to fit. Many ML models are more complex and do not have an analytic solution. In such cases, we often use **Gradient Descent** to find the minimum of the **loss function**. The idea behind gradient descent is simple: The gradient of the loss function is 0 at the minimum, so we have to increase our estimate of beta if the gradient is negative, and decrease the estimate if beta is positive. This will become clearer when we plot it."
   ]
  },
  {
   "cell_type": "code",
   "execution_count": 5,
   "metadata": {},
   "outputs": [
    {
     "data": {
      "text/plain": [
       "Text(0, 0.5, 'loss')"
      ]
     },
     "execution_count": 5,
     "metadata": {},
     "output_type": "execute_result"
    },
    {
     "data": {
      "image/png": "[encoded data removed]",
      "text/plain": [
       "<Figure size 432x288 with 1 Axes>"
      ]
     },
     "metadata": {
      "needs_background": "light"
     },
     "output_type": "display_data"
    }
   ],
   "source": [
    "#Gradient descent - a simple example\n",
    "x=data['bmi']\n",
    "y=data['target']\n",
    "\n",
    "#don't worry about this code for now, you will soon understand what it does\n",
    "coefs = np.polyfit(x,y,deg=1)\n",
    "\n",
    "#define a function that returns the loss (mean squared error) for given values of x, y, and beta\n",
    "def loss_function(x,y,beta):\n",
    "    y_hat = beta[1] + beta[0]*x\n",
    "    return(np.mean((y - y_hat)**2))\n",
    "#note that beta must be a vector containing the intercept and slope coefficient. \n",
    "# We will use the intercept from the true coefficients that we estimated above and just modify the slope. \n",
    "# We represent it graphically as a function of beta.\n",
    "\n",
    "beta = coefs.copy() #store copy of true optimal values in new vector\n",
    "slopes = np.arange(coefs[0]-10, coefs[0]+10) #create a range of slope (beta[1]) values to evaluate\n",
    "losses = []\n",
    "for slope in slopes:\n",
    "    beta[0] = slope #replace true optimal slope parameter with current to-be-evaluated slope\n",
    "    losses.append(loss_function(x,y,beta))\n",
    "plt.figure()\n",
    "plt.plot(slopes,losses)\n",
    "plt.vlines(coefs[0], ymin=min(losses), ymax=max(losses))\n",
    "plt.xlabel(\"slope\")\n",
    "plt.ylabel(\"loss\")"
   ]
  },
  {
   "cell_type": "markdown",
   "metadata": {},
   "source": [
    "## Cross Validation\n",
    "\n",
    "ML and statistics have different approaches to **Generalization**. Generalization means that models do not only describe the data that they have seen during fitting, but also other data from the same population. While statistics tries to quantify the **uncertainty** of parameter estimation (by standard errors / significance tests), the common approach in ML is cross validation. It means that the model is fitted to one part of the data (training set), then its performance is evaluated on another part of the data. We might implement an example of cross-validation live in class if we have time. Otherwise, the Wikipedia article is recommendable if you would like to learn more.\n",
    "https://en.wikipedia.org/wiki/Cross-validation_(statistics)\n"
   ]
  },
  {
   "cell_type": "code",
   "execution_count": null,
   "metadata": {},
   "outputs": [],
   "source": []
  }
 ],
 "metadata": {
  "kernelspec": {
   "display_name": "Python 3",
   "language": "python",
   "name": "python3"
  },
  "language_info": {
   "codemirror_mode": {
    "name": "ipython",
    "version": 3
   },
   "file_extension": ".py",
   "mimetype": "text/x-python",
   "name": "python",
   "nbconvert_exporter": "python",
   "pygments_lexer": "ipython3",
   "version": "3.8.8"
  },
  "varInspector": {
   "cols": {
    "lenName": 16,
    "lenType": 16,
    "lenVar": 40
   },
   "kernels_config": {
    "python": {
     "delete_cmd_postfix": "",
     "delete_cmd_prefix": "del ",
     "library": "var_list.py",
     "varRefreshCmd": "print(var_dic_list())"
    },
    "r": {
     "delete_cmd_postfix": ") ",
     "delete_cmd_prefix": "rm(",
     "library": "var_list.r",
     "varRefreshCmd": "cat(var_dic_list()) "
    }
   },
   "types_to_exclude": [
    "module",
    "function",
    "builtin_function_or_method",
    "instance",
    "_Feature"
   ],
   "window_display": false
  }
 },
 "nbformat": 4,
 "nbformat_minor": 2
}
